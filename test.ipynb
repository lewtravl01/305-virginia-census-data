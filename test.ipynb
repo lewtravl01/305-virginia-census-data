{
  "cells": [
    {
      "cell_type": "markdown",
      "metadata": {
        "colab_type": "text",
        "id": "JjDSAUUojpbv"
      },
      "source": [
        "## Virginia Counties\n",
        "#### Exploratory Data Analysis"
      ]
    },
    {
      "cell_type": "markdown",
      "metadata": {
        "colab_type": "text",
        "id": "1xDv_qb3jpbx"
      },
      "source": [
        "https://www.kaggle.com/muonneutrino/us-census-demographic-data/download"
      ]
    },
    {
      "cell_type": "code",
      "execution_count": 2,
      "metadata": {
        "colab": {},
        "colab_type": "code",
        "id": "OuF8FIldjpby"
      },
      "outputs": [],
      "source": [
        "import pandas as pd\n",
        "import numpy as np\n",
        "import os"
      ]
    },
    {
      "cell_type": "code",
      "execution_count": 3,
      "metadata": {
        "colab": {
          "base_uri": "https://localhost:8080/",
          "height": 17
        },
        "colab_type": "code",
        "id": "IV3889bhjpb0",
        "outputId": "d1053766-8d85-400d-bdaf-af0149b381bb"
      },
      "outputs": [
        {
          "data": {
            "text/html": [
              "        <script type=\"text/javascript\">\n",
              "        window.PlotlyConfig = {MathJaxConfig: 'local'};\n",
              "        if (window.MathJax && window.MathJax.Hub && window.MathJax.Hub.Config) {window.MathJax.Hub.Config({SVG: {font: \"STIX-Web\"}});}\n",
              "        if (typeof require !== 'undefined') {\n",
              "        require.undef(\"plotly\");\n",
              "        requirejs.config({\n",
              "            paths: {\n",
              "                'plotly': ['https://cdn.plot.ly/plotly-2.12.1.min']\n",
              "            }\n",
              "        });\n",
              "        require(['plotly'], function(Plotly) {\n",
              "            window._Plotly = Plotly;\n",
              "        });\n",
              "        }\n",
              "        </script>\n",
              "        "
            ]
          },
          "metadata": {},
          "output_type": "display_data"
        }
      ],
      "source": [
        "import plotly as py\n",
        "import plotly.graph_objs as go\n",
        "# from plotly.graph_objs import *\n",
        "from plotly.offline import download_plotlyjs, init_notebook_mode, plot, iplot\n",
        "init_notebook_mode(connected=True)"
      ]
    },
    {
      "cell_type": "code",
      "execution_count": 4,
      "metadata": {
        "colab": {
          "base_uri": "https://localhost:8080/",
          "height": 213
        },
        "colab_type": "code",
        "id": "uF7o_lKUjpb3",
        "outputId": "3f4d74a0-2e90-47a9-fada-34c744a3d149"
      },
      "outputs": [
        {
          "data": {
            "text/html": [
              "<div>\n",
              "<style scoped>\n",
              "    .dataframe tbody tr th:only-of-type {\n",
              "        vertical-align: middle;\n",
              "    }\n",
              "\n",
              "    .dataframe tbody tr th {\n",
              "        vertical-align: top;\n",
              "    }\n",
              "\n",
              "    .dataframe thead th {\n",
              "        text-align: right;\n",
              "    }\n",
              "</style>\n",
              "<table border=\"1\" class=\"dataframe\">\n",
              "  <thead>\n",
              "    <tr style=\"text-align: right;\">\n",
              "      <th></th>\n",
              "      <th>CountyId</th>\n",
              "      <th>State</th>\n",
              "      <th>County</th>\n",
              "      <th>TotalPop</th>\n",
              "      <th>Men</th>\n",
              "      <th>Women</th>\n",
              "      <th>Hispanic</th>\n",
              "      <th>White</th>\n",
              "      <th>Black</th>\n",
              "      <th>Native</th>\n",
              "      <th>...</th>\n",
              "      <th>Walk</th>\n",
              "      <th>OtherTransp</th>\n",
              "      <th>WorkAtHome</th>\n",
              "      <th>MeanCommute</th>\n",
              "      <th>Employed</th>\n",
              "      <th>PrivateWork</th>\n",
              "      <th>PublicWork</th>\n",
              "      <th>SelfEmployed</th>\n",
              "      <th>FamilyWork</th>\n",
              "      <th>Unemployment</th>\n",
              "    </tr>\n",
              "  </thead>\n",
              "  <tbody>\n",
              "    <tr>\n",
              "      <th>0</th>\n",
              "      <td>1001</td>\n",
              "      <td>Alabama</td>\n",
              "      <td>Autauga County</td>\n",
              "      <td>55036</td>\n",
              "      <td>26899</td>\n",
              "      <td>28137</td>\n",
              "      <td>2.7</td>\n",
              "      <td>75.4</td>\n",
              "      <td>18.9</td>\n",
              "      <td>0.3</td>\n",
              "      <td>...</td>\n",
              "      <td>0.6</td>\n",
              "      <td>1.3</td>\n",
              "      <td>2.5</td>\n",
              "      <td>25.8</td>\n",
              "      <td>24112</td>\n",
              "      <td>74.1</td>\n",
              "      <td>20.2</td>\n",
              "      <td>5.6</td>\n",
              "      <td>0.1</td>\n",
              "      <td>5.2</td>\n",
              "    </tr>\n",
              "    <tr>\n",
              "      <th>1</th>\n",
              "      <td>1003</td>\n",
              "      <td>Alabama</td>\n",
              "      <td>Baldwin County</td>\n",
              "      <td>203360</td>\n",
              "      <td>99527</td>\n",
              "      <td>103833</td>\n",
              "      <td>4.4</td>\n",
              "      <td>83.1</td>\n",
              "      <td>9.5</td>\n",
              "      <td>0.8</td>\n",
              "      <td>...</td>\n",
              "      <td>0.8</td>\n",
              "      <td>1.1</td>\n",
              "      <td>5.6</td>\n",
              "      <td>27.0</td>\n",
              "      <td>89527</td>\n",
              "      <td>80.7</td>\n",
              "      <td>12.9</td>\n",
              "      <td>6.3</td>\n",
              "      <td>0.1</td>\n",
              "      <td>5.5</td>\n",
              "    </tr>\n",
              "    <tr>\n",
              "      <th>2</th>\n",
              "      <td>1005</td>\n",
              "      <td>Alabama</td>\n",
              "      <td>Barbour County</td>\n",
              "      <td>26201</td>\n",
              "      <td>13976</td>\n",
              "      <td>12225</td>\n",
              "      <td>4.2</td>\n",
              "      <td>45.7</td>\n",
              "      <td>47.8</td>\n",
              "      <td>0.2</td>\n",
              "      <td>...</td>\n",
              "      <td>2.2</td>\n",
              "      <td>1.7</td>\n",
              "      <td>1.3</td>\n",
              "      <td>23.4</td>\n",
              "      <td>8878</td>\n",
              "      <td>74.1</td>\n",
              "      <td>19.1</td>\n",
              "      <td>6.5</td>\n",
              "      <td>0.3</td>\n",
              "      <td>12.4</td>\n",
              "    </tr>\n",
              "    <tr>\n",
              "      <th>3</th>\n",
              "      <td>1007</td>\n",
              "      <td>Alabama</td>\n",
              "      <td>Bibb County</td>\n",
              "      <td>22580</td>\n",
              "      <td>12251</td>\n",
              "      <td>10329</td>\n",
              "      <td>2.4</td>\n",
              "      <td>74.6</td>\n",
              "      <td>22.0</td>\n",
              "      <td>0.4</td>\n",
              "      <td>...</td>\n",
              "      <td>0.3</td>\n",
              "      <td>1.7</td>\n",
              "      <td>1.5</td>\n",
              "      <td>30.0</td>\n",
              "      <td>8171</td>\n",
              "      <td>76.0</td>\n",
              "      <td>17.4</td>\n",
              "      <td>6.3</td>\n",
              "      <td>0.3</td>\n",
              "      <td>8.2</td>\n",
              "    </tr>\n",
              "    <tr>\n",
              "      <th>4</th>\n",
              "      <td>1009</td>\n",
              "      <td>Alabama</td>\n",
              "      <td>Blount County</td>\n",
              "      <td>57667</td>\n",
              "      <td>28490</td>\n",
              "      <td>29177</td>\n",
              "      <td>9.0</td>\n",
              "      <td>87.4</td>\n",
              "      <td>1.5</td>\n",
              "      <td>0.3</td>\n",
              "      <td>...</td>\n",
              "      <td>0.4</td>\n",
              "      <td>0.4</td>\n",
              "      <td>2.1</td>\n",
              "      <td>35.0</td>\n",
              "      <td>21380</td>\n",
              "      <td>83.9</td>\n",
              "      <td>11.9</td>\n",
              "      <td>4.0</td>\n",
              "      <td>0.1</td>\n",
              "      <td>4.9</td>\n",
              "    </tr>\n",
              "  </tbody>\n",
              "</table>\n",
              "<p>5 rows × 37 columns</p>\n",
              "</div>"
            ],
            "text/plain": [
              "   CountyId    State          County  TotalPop    Men   Women  Hispanic  \\\n",
              "0      1001  Alabama  Autauga County     55036  26899   28137       2.7   \n",
              "1      1003  Alabama  Baldwin County    203360  99527  103833       4.4   \n",
              "2      1005  Alabama  Barbour County     26201  13976   12225       4.2   \n",
              "3      1007  Alabama     Bibb County     22580  12251   10329       2.4   \n",
              "4      1009  Alabama   Blount County     57667  28490   29177       9.0   \n",
              "\n",
              "   White  Black  Native  ...  Walk  OtherTransp  WorkAtHome  MeanCommute  \\\n",
              "0   75.4   18.9     0.3  ...   0.6          1.3         2.5         25.8   \n",
              "1   83.1    9.5     0.8  ...   0.8          1.1         5.6         27.0   \n",
              "2   45.7   47.8     0.2  ...   2.2          1.7         1.3         23.4   \n",
              "3   74.6   22.0     0.4  ...   0.3          1.7         1.5         30.0   \n",
              "4   87.4    1.5     0.3  ...   0.4          0.4         2.1         35.0   \n",
              "\n",
              "   Employed  PrivateWork  PublicWork  SelfEmployed  FamilyWork  Unemployment  \n",
              "0     24112         74.1        20.2           5.6         0.1           5.2  \n",
              "1     89527         80.7        12.9           6.3         0.1           5.5  \n",
              "2      8878         74.1        19.1           6.5         0.3          12.4  \n",
              "3      8171         76.0        17.4           6.3         0.3           8.2  \n",
              "4     21380         83.9        11.9           4.0         0.1           4.9  \n",
              "\n",
              "[5 rows x 37 columns]"
            ]
          },
          "execution_count": 4,
          "metadata": {},
          "output_type": "execute_result"
        }
      ],
      "source": [
        "# read in the dataset\n",
        "counties = pd.read_csv('https://raw.githubusercontent.com/austinlasseter/dash-virginia-counties/master/resources/acs2017_county_data.csv')\n",
        "counties.head()"
      ]
    },
    {
      "cell_type": "code",
      "execution_count": 5,
      "metadata": {},
      "outputs": [
        {
          "data": {
            "text/html": [
              "<div>\n",
              "<style scoped>\n",
              "    .dataframe tbody tr th:only-of-type {\n",
              "        vertical-align: middle;\n",
              "    }\n",
              "\n",
              "    .dataframe tbody tr th {\n",
              "        vertical-align: top;\n",
              "    }\n",
              "\n",
              "    .dataframe thead th {\n",
              "        text-align: right;\n",
              "    }\n",
              "</style>\n",
              "<table border=\"1\" class=\"dataframe\">\n",
              "  <thead>\n",
              "    <tr style=\"text-align: right;\">\n",
              "      <th></th>\n",
              "      <th>FIPS</th>\n",
              "      <th>State</th>\n",
              "      <th>County_Name</th>\n",
              "      <th>Population_2010</th>\n",
              "      <th>RUCC_2013</th>\n",
              "      <th>Description</th>\n",
              "    </tr>\n",
              "  </thead>\n",
              "  <tbody>\n",
              "    <tr>\n",
              "      <th>2162</th>\n",
              "      <td>40063</td>\n",
              "      <td>OK</td>\n",
              "      <td>Hughes County</td>\n",
              "      <td>14003</td>\n",
              "      <td>7</td>\n",
              "      <td>Nonmetro - Urban population of 2,500 to 19,999...</td>\n",
              "    </tr>\n",
              "    <tr>\n",
              "      <th>2603</th>\n",
              "      <td>48161</td>\n",
              "      <td>TX</td>\n",
              "      <td>Freestone County</td>\n",
              "      <td>19816</td>\n",
              "      <td>7</td>\n",
              "      <td>Nonmetro - Urban population of 2,500 to 19,999...</td>\n",
              "    </tr>\n",
              "    <tr>\n",
              "      <th>2790</th>\n",
              "      <td>49027</td>\n",
              "      <td>UT</td>\n",
              "      <td>Millard County</td>\n",
              "      <td>12503</td>\n",
              "      <td>7</td>\n",
              "      <td>Nonmetro - Urban population of 2,500 to 19,999...</td>\n",
              "    </tr>\n",
              "  </tbody>\n",
              "</table>\n",
              "</div>"
            ],
            "text/plain": [
              "       FIPS State       County_Name  Population_2010  RUCC_2013  \\\n",
              "2162  40063    OK     Hughes County            14003          7   \n",
              "2603  48161    TX  Freestone County            19816          7   \n",
              "2790  49027    UT    Millard County            12503          7   \n",
              "\n",
              "                                            Description  \n",
              "2162  Nonmetro - Urban population of 2,500 to 19,999...  \n",
              "2603  Nonmetro - Urban population of 2,500 to 19,999...  \n",
              "2790  Nonmetro - Urban population of 2,500 to 19,999...  "
            ]
          },
          "execution_count": 5,
          "metadata": {},
          "output_type": "execute_result"
        }
      ],
      "source": [
        "usda=pd.read_excel('https://github.com/austinlasseter/dash-virginia-counties/raw/master/resources/ruralurbancodes2013.xls')\n",
        "usda.sample(3)"
      ]
    },
    {
      "cell_type": "code",
      "execution_count": 22,
      "metadata": {},
      "outputs": [],
      "source": [
        "fulldf=pd.merge(counties, usda, left_on='CountyId', right_on='FIPS', how='left')"
      ]
    },
    {
      "cell_type": "code",
      "execution_count": 41,
      "metadata": {},
      "outputs": [
        {
          "data": {
            "text/html": [
              "<div>\n",
              "<style scoped>\n",
              "    .dataframe tbody tr th:only-of-type {\n",
              "        vertical-align: middle;\n",
              "    }\n",
              "\n",
              "    .dataframe tbody tr th {\n",
              "        vertical-align: top;\n",
              "    }\n",
              "\n",
              "    .dataframe thead th {\n",
              "        text-align: right;\n",
              "    }\n",
              "</style>\n",
              "<table border=\"1\" class=\"dataframe\">\n",
              "  <thead>\n",
              "    <tr style=\"text-align: right;\">\n",
              "      <th></th>\n",
              "      <th>CountyId</th>\n",
              "      <th>State_x</th>\n",
              "      <th>County</th>\n",
              "      <th>TotalPop</th>\n",
              "      <th>Men</th>\n",
              "      <th>Women</th>\n",
              "      <th>Hispanic</th>\n",
              "      <th>White</th>\n",
              "      <th>Black</th>\n",
              "      <th>Native</th>\n",
              "      <th>...</th>\n",
              "      <th>PublicWork</th>\n",
              "      <th>SelfEmployed</th>\n",
              "      <th>FamilyWork</th>\n",
              "      <th>Unemployment</th>\n",
              "      <th>FIPS</th>\n",
              "      <th>State_y</th>\n",
              "      <th>County_Name</th>\n",
              "      <th>Population_2010</th>\n",
              "      <th>RUCC_2013</th>\n",
              "      <th>Description</th>\n",
              "    </tr>\n",
              "  </thead>\n",
              "  <tbody>\n",
              "    <tr>\n",
              "      <th>0</th>\n",
              "      <td>1001</td>\n",
              "      <td>Alabama</td>\n",
              "      <td>Autauga County</td>\n",
              "      <td>55036</td>\n",
              "      <td>26899</td>\n",
              "      <td>28137</td>\n",
              "      <td>2.7</td>\n",
              "      <td>75.4</td>\n",
              "      <td>18.9</td>\n",
              "      <td>0.3</td>\n",
              "      <td>...</td>\n",
              "      <td>20.2</td>\n",
              "      <td>5.6</td>\n",
              "      <td>0.1</td>\n",
              "      <td>5.2</td>\n",
              "      <td>1001.0</td>\n",
              "      <td>AL</td>\n",
              "      <td>Autauga County</td>\n",
              "      <td>54571.0</td>\n",
              "      <td>2.0</td>\n",
              "      <td>Metro - Counties in metro areas of 250,000 to ...</td>\n",
              "    </tr>\n",
              "    <tr>\n",
              "      <th>1</th>\n",
              "      <td>1003</td>\n",
              "      <td>Alabama</td>\n",
              "      <td>Baldwin County</td>\n",
              "      <td>203360</td>\n",
              "      <td>99527</td>\n",
              "      <td>103833</td>\n",
              "      <td>4.4</td>\n",
              "      <td>83.1</td>\n",
              "      <td>9.5</td>\n",
              "      <td>0.8</td>\n",
              "      <td>...</td>\n",
              "      <td>12.9</td>\n",
              "      <td>6.3</td>\n",
              "      <td>0.1</td>\n",
              "      <td>5.5</td>\n",
              "      <td>1003.0</td>\n",
              "      <td>AL</td>\n",
              "      <td>Baldwin County</td>\n",
              "      <td>182265.0</td>\n",
              "      <td>3.0</td>\n",
              "      <td>Metro - Counties in metro areas of fewer than ...</td>\n",
              "    </tr>\n",
              "    <tr>\n",
              "      <th>2</th>\n",
              "      <td>1005</td>\n",
              "      <td>Alabama</td>\n",
              "      <td>Barbour County</td>\n",
              "      <td>26201</td>\n",
              "      <td>13976</td>\n",
              "      <td>12225</td>\n",
              "      <td>4.2</td>\n",
              "      <td>45.7</td>\n",
              "      <td>47.8</td>\n",
              "      <td>0.2</td>\n",
              "      <td>...</td>\n",
              "      <td>19.1</td>\n",
              "      <td>6.5</td>\n",
              "      <td>0.3</td>\n",
              "      <td>12.4</td>\n",
              "      <td>1005.0</td>\n",
              "      <td>AL</td>\n",
              "      <td>Barbour County</td>\n",
              "      <td>27457.0</td>\n",
              "      <td>6.0</td>\n",
              "      <td>Nonmetro - Urban population of 2,500 to 19,999...</td>\n",
              "    </tr>\n",
              "    <tr>\n",
              "      <th>3</th>\n",
              "      <td>1007</td>\n",
              "      <td>Alabama</td>\n",
              "      <td>Bibb County</td>\n",
              "      <td>22580</td>\n",
              "      <td>12251</td>\n",
              "      <td>10329</td>\n",
              "      <td>2.4</td>\n",
              "      <td>74.6</td>\n",
              "      <td>22.0</td>\n",
              "      <td>0.4</td>\n",
              "      <td>...</td>\n",
              "      <td>17.4</td>\n",
              "      <td>6.3</td>\n",
              "      <td>0.3</td>\n",
              "      <td>8.2</td>\n",
              "      <td>1007.0</td>\n",
              "      <td>AL</td>\n",
              "      <td>Bibb County</td>\n",
              "      <td>22915.0</td>\n",
              "      <td>1.0</td>\n",
              "      <td>Metro - Counties in metro areas of 1 million p...</td>\n",
              "    </tr>\n",
              "    <tr>\n",
              "      <th>4</th>\n",
              "      <td>1009</td>\n",
              "      <td>Alabama</td>\n",
              "      <td>Blount County</td>\n",
              "      <td>57667</td>\n",
              "      <td>28490</td>\n",
              "      <td>29177</td>\n",
              "      <td>9.0</td>\n",
              "      <td>87.4</td>\n",
              "      <td>1.5</td>\n",
              "      <td>0.3</td>\n",
              "      <td>...</td>\n",
              "      <td>11.9</td>\n",
              "      <td>4.0</td>\n",
              "      <td>0.1</td>\n",
              "      <td>4.9</td>\n",
              "      <td>1009.0</td>\n",
              "      <td>AL</td>\n",
              "      <td>Blount County</td>\n",
              "      <td>57322.0</td>\n",
              "      <td>1.0</td>\n",
              "      <td>Metro - Counties in metro areas of 1 million p...</td>\n",
              "    </tr>\n",
              "  </tbody>\n",
              "</table>\n",
              "<p>5 rows × 43 columns</p>\n",
              "</div>"
            ],
            "text/plain": [
              "   CountyId  State_x          County  TotalPop    Men   Women  Hispanic  \\\n",
              "0      1001  Alabama  Autauga County     55036  26899   28137       2.7   \n",
              "1      1003  Alabama  Baldwin County    203360  99527  103833       4.4   \n",
              "2      1005  Alabama  Barbour County     26201  13976   12225       4.2   \n",
              "3      1007  Alabama     Bibb County     22580  12251   10329       2.4   \n",
              "4      1009  Alabama   Blount County     57667  28490   29177       9.0   \n",
              "\n",
              "   White  Black  Native  ...  PublicWork  SelfEmployed  FamilyWork  \\\n",
              "0   75.4   18.9     0.3  ...        20.2           5.6         0.1   \n",
              "1   83.1    9.5     0.8  ...        12.9           6.3         0.1   \n",
              "2   45.7   47.8     0.2  ...        19.1           6.5         0.3   \n",
              "3   74.6   22.0     0.4  ...        17.4           6.3         0.3   \n",
              "4   87.4    1.5     0.3  ...        11.9           4.0         0.1   \n",
              "\n",
              "   Unemployment    FIPS  State_y     County_Name  Population_2010  RUCC_2013  \\\n",
              "0           5.2  1001.0       AL  Autauga County          54571.0        2.0   \n",
              "1           5.5  1003.0       AL  Baldwin County         182265.0        3.0   \n",
              "2          12.4  1005.0       AL  Barbour County          27457.0        6.0   \n",
              "3           8.2  1007.0       AL     Bibb County          22915.0        1.0   \n",
              "4           4.9  1009.0       AL   Blount County          57322.0        1.0   \n",
              "\n",
              "                                         Description  \n",
              "0  Metro - Counties in metro areas of 250,000 to ...  \n",
              "1  Metro - Counties in metro areas of fewer than ...  \n",
              "2  Nonmetro - Urban population of 2,500 to 19,999...  \n",
              "3  Metro - Counties in metro areas of 1 million p...  \n",
              "4  Metro - Counties in metro areas of 1 million p...  \n",
              "\n",
              "[5 rows x 43 columns]"
            ]
          },
          "execution_count": 41,
          "metadata": {},
          "output_type": "execute_result"
        }
      ],
      "source": [
        "fulldf.head()"
      ]
    },
    {
      "cell_type": "code",
      "execution_count": 58,
      "metadata": {},
      "outputs": [
        {
          "data": {
            "text/html": [
              "<div>\n",
              "<style scoped>\n",
              "    .dataframe tbody tr th:only-of-type {\n",
              "        vertical-align: middle;\n",
              "    }\n",
              "\n",
              "    .dataframe tbody tr th {\n",
              "        vertical-align: top;\n",
              "    }\n",
              "\n",
              "    .dataframe thead th {\n",
              "        text-align: right;\n",
              "    }\n",
              "</style>\n",
              "<table border=\"1\" class=\"dataframe\">\n",
              "  <thead>\n",
              "    <tr style=\"text-align: right;\">\n",
              "      <th></th>\n",
              "      <th>CountyId</th>\n",
              "      <th>State_x</th>\n",
              "      <th>County</th>\n",
              "      <th>TotalPop</th>\n",
              "      <th>Men</th>\n",
              "      <th>Women</th>\n",
              "      <th>Hispanic</th>\n",
              "      <th>White</th>\n",
              "      <th>Black</th>\n",
              "      <th>Native</th>\n",
              "      <th>...</th>\n",
              "      <th>PublicWork</th>\n",
              "      <th>SelfEmployed</th>\n",
              "      <th>FamilyWork</th>\n",
              "      <th>Unemployment</th>\n",
              "      <th>FIPS</th>\n",
              "      <th>State_y</th>\n",
              "      <th>County_Name</th>\n",
              "      <th>Population_2010</th>\n",
              "      <th>RUCC_2013</th>\n",
              "      <th>Description</th>\n",
              "    </tr>\n",
              "  </thead>\n",
              "  <tbody>\n",
              "    <tr>\n",
              "      <th>2484</th>\n",
              "      <td>47113</td>\n",
              "      <td>Tennessee</td>\n",
              "      <td>Madison County</td>\n",
              "      <td>97887</td>\n",
              "      <td>46449</td>\n",
              "      <td>51438</td>\n",
              "      <td>3.7</td>\n",
              "      <td>56.5</td>\n",
              "      <td>37.1</td>\n",
              "      <td>0.0</td>\n",
              "      <td>...</td>\n",
              "      <td>13.2</td>\n",
              "      <td>5.6</td>\n",
              "      <td>0.3</td>\n",
              "      <td>6.2</td>\n",
              "      <td>47113.0</td>\n",
              "      <td>TN</td>\n",
              "      <td>Madison County</td>\n",
              "      <td>98294.0</td>\n",
              "      <td>3.0</td>\n",
              "      <td>Metro - Counties in metro areas of fewer than ...</td>\n",
              "    </tr>\n",
              "  </tbody>\n",
              "</table>\n",
              "<p>1 rows × 43 columns</p>\n",
              "</div>"
            ],
            "text/plain": [
              "      CountyId    State_x          County  TotalPop    Men  Women  Hispanic  \\\n",
              "2484     47113  Tennessee  Madison County     97887  46449  51438       3.7   \n",
              "\n",
              "      White  Black  Native  ...  PublicWork  SelfEmployed  FamilyWork  \\\n",
              "2484   56.5   37.1     0.0  ...        13.2           5.6         0.3   \n",
              "\n",
              "      Unemployment     FIPS  State_y     County_Name  Population_2010  \\\n",
              "2484           6.2  47113.0       TN  Madison County          98294.0   \n",
              "\n",
              "      RUCC_2013                                        Description  \n",
              "2484        3.0  Metro - Counties in metro areas of fewer than ...  \n",
              "\n",
              "[1 rows x 43 columns]"
            ]
          },
          "execution_count": 58,
          "metadata": {},
          "output_type": "execute_result"
        }
      ],
      "source": [
        "fulldf.sample(1)"
      ]
    },
    {
      "cell_type": "code",
      "execution_count": 61,
      "metadata": {},
      "outputs": [
        {
          "data": {
            "text/html": [
              "<div>\n",
              "<style scoped>\n",
              "    .dataframe tbody tr th:only-of-type {\n",
              "        vertical-align: middle;\n",
              "    }\n",
              "\n",
              "    .dataframe tbody tr th {\n",
              "        vertical-align: top;\n",
              "    }\n",
              "\n",
              "    .dataframe thead th {\n",
              "        text-align: right;\n",
              "    }\n",
              "</style>\n",
              "<table border=\"1\" class=\"dataframe\">\n",
              "  <thead>\n",
              "    <tr style=\"text-align: right;\">\n",
              "      <th></th>\n",
              "      <th>State_y</th>\n",
              "      <th>State_x</th>\n",
              "      <th>TotalPop</th>\n",
              "    </tr>\n",
              "  </thead>\n",
              "  <tbody>\n",
              "    <tr>\n",
              "      <th>0</th>\n",
              "      <td>AK</td>\n",
              "      <td>Alaska</td>\n",
              "      <td>26087.000000</td>\n",
              "    </tr>\n",
              "    <tr>\n",
              "      <th>1</th>\n",
              "      <td>AL</td>\n",
              "      <td>Alabama</td>\n",
              "      <td>72399.567164</td>\n",
              "    </tr>\n",
              "    <tr>\n",
              "      <th>2</th>\n",
              "      <td>AR</td>\n",
              "      <td>Arkansas</td>\n",
              "      <td>39705.920000</td>\n",
              "    </tr>\n",
              "    <tr>\n",
              "      <th>3</th>\n",
              "      <td>AZ</td>\n",
              "      <td>Arizona</td>\n",
              "      <td>453996.400000</td>\n",
              "    </tr>\n",
              "    <tr>\n",
              "      <th>4</th>\n",
              "      <td>CA</td>\n",
              "      <td>California</td>\n",
              "      <td>672118.051724</td>\n",
              "    </tr>\n",
              "  </tbody>\n",
              "</table>\n",
              "</div>"
            ],
            "text/plain": [
              "  State_y     State_x       TotalPop\n",
              "0      AK      Alaska   26087.000000\n",
              "1      AL     Alabama   72399.567164\n",
              "2      AR    Arkansas   39705.920000\n",
              "3      AZ     Arizona  453996.400000\n",
              "4      CA  California  672118.051724"
            ]
          },
          "execution_count": 61,
          "metadata": {},
          "output_type": "execute_result"
        }
      ],
      "source": [
        "#statedf = fulldf.groupby('State_y', as_index=False)[['State_y', 'TotalPop']].mean()\n",
        "#statedf = fulldf.groupby('State_y')[['State_y', 'TotalPop']].mean().reset_index()\n",
        "statedf = fulldf.groupby(['State_y', 'State_x'])[['TotalPop']].mean().reset_index()\n",
        "statedf.head()"
      ]
    },
    {
      "cell_type": "code",
      "execution_count": 70,
      "metadata": {},
      "outputs": [],
      "source": [
        "statecode = 'AL'\n",
        "singlestatedf = statedf[statedf['State_y'] == statecode]"
      ]
    },
    {
      "cell_type": "code",
      "execution_count": 74,
      "metadata": {},
      "outputs": [
        {
          "data": {
            "text/plain": [
              "[{'type': 'choropleth',\n",
              "  'colorscale': 'Blues',\n",
              "  'z': 1    72399.567164\n",
              "  Name: TotalPop, dtype: float64,\n",
              "  'locations': 1    AL\n",
              "  Name: State_y, dtype: object,\n",
              "  'locationmode': 'USA-states',\n",
              "  'text': 1    AL\n",
              "  Name: State_y, dtype: object,\n",
              "  'colorbar': {'title': 'millions'}}]"
            ]
          },
          "execution_count": 74,
          "metadata": {},
          "output_type": "execute_result"
        }
      ],
      "source": [
        "\n",
        "data = [dict(type='choropleth', \n",
        "    colorscale='Blues', \n",
        "    z=singlestatedf['TotalPop'], \n",
        "    locations=singlestatedf['State_y'], \n",
        "    locationmode='USA-states', \n",
        "    text = singlestatedf['State_y'], \n",
        "    colorbar=dict(title=\"millions\"))]\n",
        "\n",
        "data"
      ]
    },
    {
      "cell_type": "code",
      "execution_count": 72,
      "metadata": {},
      "outputs": [
        {
          "data": {
            "text/plain": [
              "{'title': 'Total Population',\n",
              " 'geo': {'scope': 'usa',\n",
              "  'projection': {'type': 'albers usa'},\n",
              "  'showlakes': True,\n",
              "  'lakecolor': 'rgb(66,165,245)'}}"
            ]
          },
          "execution_count": 72,
          "metadata": {},
          "output_type": "execute_result"
        }
      ],
      "source": [
        "layout = dict(title='Total Population', \n",
        "    geo = dict(scope='usa', projection=dict(type='albers usa'), showlakes = True, lakecolor = 'rgb(66,165,245)'))\n",
        "\n",
        "layout"
      ]
    },
    {
      "cell_type": "code",
      "execution_count": null,
      "metadata": {},
      "outputs": [],
      "source": [
        "pip install --upgrade nbformat"
      ]
    },
    {
      "cell_type": "code",
      "execution_count": 73,
      "metadata": {},
      "outputs": [
        {
          "data": {
            "application/vnd.plotly.v1+json": {
              "config": {
                "plotlyServerURL": "https://plot.ly"
              },
              "data": [
                {
                  "colorbar": {
                    "title": {
                      "text": "thousand dollars"
                    }
                  },
                  "colorscale": [
                    [
                      0,
                      "rgb(247,251,255)"
                    ],
                    [
                      0.125,
                      "rgb(222,235,247)"
                    ],
                    [
                      0.25,
                      "rgb(198,219,239)"
                    ],
                    [
                      0.375,
                      "rgb(158,202,225)"
                    ],
                    [
                      0.5,
                      "rgb(107,174,214)"
                    ],
                    [
                      0.625,
                      "rgb(66,146,198)"
                    ],
                    [
                      0.75,
                      "rgb(33,113,181)"
                    ],
                    [
                      0.875,
                      "rgb(8,81,156)"
                    ],
                    [
                      1,
                      "rgb(8,48,107)"
                    ]
                  ],
                  "locationmode": "USA-states",
                  "locations": [
                    "AL"
                  ],
                  "text": [
                    "AL"
                  ],
                  "type": "choropleth",
                  "z": [
                    72399.5671641791
                  ]
                }
              ],
              "layout": {
                "geo": {
                  "lakecolor": "rgb(66,165,245)",
                  "projection": {
                    "type": "albers usa"
                  },
                  "scope": "usa",
                  "showlakes": true
                },
                "template": {
                  "data": {
                    "bar": [
                      {
                        "error_x": {
                          "color": "#2a3f5f"
                        },
                        "error_y": {
                          "color": "#2a3f5f"
                        },
                        "marker": {
                          "line": {
                            "color": "#E5ECF6",
                            "width": 0.5
                          },
                          "pattern": {
                            "fillmode": "overlay",
                            "size": 10,
                            "solidity": 0.2
                          }
                        },
                        "type": "bar"
                      }
                    ],
                    "barpolar": [
                      {
                        "marker": {
                          "line": {
                            "color": "#E5ECF6",
                            "width": 0.5
                          },
                          "pattern": {
                            "fillmode": "overlay",
                            "size": 10,
                            "solidity": 0.2
                          }
                        },
                        "type": "barpolar"
                      }
                    ],
                    "carpet": [
                      {
                        "aaxis": {
                          "endlinecolor": "#2a3f5f",
                          "gridcolor": "white",
                          "linecolor": "white",
                          "minorgridcolor": "white",
                          "startlinecolor": "#2a3f5f"
                        },
                        "baxis": {
                          "endlinecolor": "#2a3f5f",
                          "gridcolor": "white",
                          "linecolor": "white",
                          "minorgridcolor": "white",
                          "startlinecolor": "#2a3f5f"
                        },
                        "type": "carpet"
                      }
                    ],
                    "choropleth": [
                      {
                        "colorbar": {
                          "outlinewidth": 0,
                          "ticks": ""
                        },
                        "type": "choropleth"
                      }
                    ],
                    "contour": [
                      {
                        "colorbar": {
                          "outlinewidth": 0,
                          "ticks": ""
                        },
                        "colorscale": [
                          [
                            0,
                            "#0d0887"
                          ],
                          [
                            0.1111111111111111,
                            "#46039f"
                          ],
                          [
                            0.2222222222222222,
                            "#7201a8"
                          ],
                          [
                            0.3333333333333333,
                            "#9c179e"
                          ],
                          [
                            0.4444444444444444,
                            "#bd3786"
                          ],
                          [
                            0.5555555555555556,
                            "#d8576b"
                          ],
                          [
                            0.6666666666666666,
                            "#ed7953"
                          ],
                          [
                            0.7777777777777778,
                            "#fb9f3a"
                          ],
                          [
                            0.8888888888888888,
                            "#fdca26"
                          ],
                          [
                            1,
                            "#f0f921"
                          ]
                        ],
                        "type": "contour"
                      }
                    ],
                    "contourcarpet": [
                      {
                        "colorbar": {
                          "outlinewidth": 0,
                          "ticks": ""
                        },
                        "type": "contourcarpet"
                      }
                    ],
                    "heatmap": [
                      {
                        "colorbar": {
                          "outlinewidth": 0,
                          "ticks": ""
                        },
                        "colorscale": [
                          [
                            0,
                            "#0d0887"
                          ],
                          [
                            0.1111111111111111,
                            "#46039f"
                          ],
                          [
                            0.2222222222222222,
                            "#7201a8"
                          ],
                          [
                            0.3333333333333333,
                            "#9c179e"
                          ],
                          [
                            0.4444444444444444,
                            "#bd3786"
                          ],
                          [
                            0.5555555555555556,
                            "#d8576b"
                          ],
                          [
                            0.6666666666666666,
                            "#ed7953"
                          ],
                          [
                            0.7777777777777778,
                            "#fb9f3a"
                          ],
                          [
                            0.8888888888888888,
                            "#fdca26"
                          ],
                          [
                            1,
                            "#f0f921"
                          ]
                        ],
                        "type": "heatmap"
                      }
                    ],
                    "heatmapgl": [
                      {
                        "colorbar": {
                          "outlinewidth": 0,
                          "ticks": ""
                        },
                        "colorscale": [
                          [
                            0,
                            "#0d0887"
                          ],
                          [
                            0.1111111111111111,
                            "#46039f"
                          ],
                          [
                            0.2222222222222222,
                            "#7201a8"
                          ],
                          [
                            0.3333333333333333,
                            "#9c179e"
                          ],
                          [
                            0.4444444444444444,
                            "#bd3786"
                          ],
                          [
                            0.5555555555555556,
                            "#d8576b"
                          ],
                          [
                            0.6666666666666666,
                            "#ed7953"
                          ],
                          [
                            0.7777777777777778,
                            "#fb9f3a"
                          ],
                          [
                            0.8888888888888888,
                            "#fdca26"
                          ],
                          [
                            1,
                            "#f0f921"
                          ]
                        ],
                        "type": "heatmapgl"
                      }
                    ],
                    "histogram": [
                      {
                        "marker": {
                          "pattern": {
                            "fillmode": "overlay",
                            "size": 10,
                            "solidity": 0.2
                          }
                        },
                        "type": "histogram"
                      }
                    ],
                    "histogram2d": [
                      {
                        "colorbar": {
                          "outlinewidth": 0,
                          "ticks": ""
                        },
                        "colorscale": [
                          [
                            0,
                            "#0d0887"
                          ],
                          [
                            0.1111111111111111,
                            "#46039f"
                          ],
                          [
                            0.2222222222222222,
                            "#7201a8"
                          ],
                          [
                            0.3333333333333333,
                            "#9c179e"
                          ],
                          [
                            0.4444444444444444,
                            "#bd3786"
                          ],
                          [
                            0.5555555555555556,
                            "#d8576b"
                          ],
                          [
                            0.6666666666666666,
                            "#ed7953"
                          ],
                          [
                            0.7777777777777778,
                            "#fb9f3a"
                          ],
                          [
                            0.8888888888888888,
                            "#fdca26"
                          ],
                          [
                            1,
                            "#f0f921"
                          ]
                        ],
                        "type": "histogram2d"
                      }
                    ],
                    "histogram2dcontour": [
                      {
                        "colorbar": {
                          "outlinewidth": 0,
                          "ticks": ""
                        },
                        "colorscale": [
                          [
                            0,
                            "#0d0887"
                          ],
                          [
                            0.1111111111111111,
                            "#46039f"
                          ],
                          [
                            0.2222222222222222,
                            "#7201a8"
                          ],
                          [
                            0.3333333333333333,
                            "#9c179e"
                          ],
                          [
                            0.4444444444444444,
                            "#bd3786"
                          ],
                          [
                            0.5555555555555556,
                            "#d8576b"
                          ],
                          [
                            0.6666666666666666,
                            "#ed7953"
                          ],
                          [
                            0.7777777777777778,
                            "#fb9f3a"
                          ],
                          [
                            0.8888888888888888,
                            "#fdca26"
                          ],
                          [
                            1,
                            "#f0f921"
                          ]
                        ],
                        "type": "histogram2dcontour"
                      }
                    ],
                    "mesh3d": [
                      {
                        "colorbar": {
                          "outlinewidth": 0,
                          "ticks": ""
                        },
                        "type": "mesh3d"
                      }
                    ],
                    "parcoords": [
                      {
                        "line": {
                          "colorbar": {
                            "outlinewidth": 0,
                            "ticks": ""
                          }
                        },
                        "type": "parcoords"
                      }
                    ],
                    "pie": [
                      {
                        "automargin": true,
                        "type": "pie"
                      }
                    ],
                    "scatter": [
                      {
                        "fillpattern": {
                          "fillmode": "overlay",
                          "size": 10,
                          "solidity": 0.2
                        },
                        "type": "scatter"
                      }
                    ],
                    "scatter3d": [
                      {
                        "line": {
                          "colorbar": {
                            "outlinewidth": 0,
                            "ticks": ""
                          }
                        },
                        "marker": {
                          "colorbar": {
                            "outlinewidth": 0,
                            "ticks": ""
                          }
                        },
                        "type": "scatter3d"
                      }
                    ],
                    "scattercarpet": [
                      {
                        "marker": {
                          "colorbar": {
                            "outlinewidth": 0,
                            "ticks": ""
                          }
                        },
                        "type": "scattercarpet"
                      }
                    ],
                    "scattergeo": [
                      {
                        "marker": {
                          "colorbar": {
                            "outlinewidth": 0,
                            "ticks": ""
                          }
                        },
                        "type": "scattergeo"
                      }
                    ],
                    "scattergl": [
                      {
                        "marker": {
                          "colorbar": {
                            "outlinewidth": 0,
                            "ticks": ""
                          }
                        },
                        "type": "scattergl"
                      }
                    ],
                    "scattermapbox": [
                      {
                        "marker": {
                          "colorbar": {
                            "outlinewidth": 0,
                            "ticks": ""
                          }
                        },
                        "type": "scattermapbox"
                      }
                    ],
                    "scatterpolar": [
                      {
                        "marker": {
                          "colorbar": {
                            "outlinewidth": 0,
                            "ticks": ""
                          }
                        },
                        "type": "scatterpolar"
                      }
                    ],
                    "scatterpolargl": [
                      {
                        "marker": {
                          "colorbar": {
                            "outlinewidth": 0,
                            "ticks": ""
                          }
                        },
                        "type": "scatterpolargl"
                      }
                    ],
                    "scatterternary": [
                      {
                        "marker": {
                          "colorbar": {
                            "outlinewidth": 0,
                            "ticks": ""
                          }
                        },
                        "type": "scatterternary"
                      }
                    ],
                    "surface": [
                      {
                        "colorbar": {
                          "outlinewidth": 0,
                          "ticks": ""
                        },
                        "colorscale": [
                          [
                            0,
                            "#0d0887"
                          ],
                          [
                            0.1111111111111111,
                            "#46039f"
                          ],
                          [
                            0.2222222222222222,
                            "#7201a8"
                          ],
                          [
                            0.3333333333333333,
                            "#9c179e"
                          ],
                          [
                            0.4444444444444444,
                            "#bd3786"
                          ],
                          [
                            0.5555555555555556,
                            "#d8576b"
                          ],
                          [
                            0.6666666666666666,
                            "#ed7953"
                          ],
                          [
                            0.7777777777777778,
                            "#fb9f3a"
                          ],
                          [
                            0.8888888888888888,
                            "#fdca26"
                          ],
                          [
                            1,
                            "#f0f921"
                          ]
                        ],
                        "type": "surface"
                      }
                    ],
                    "table": [
                      {
                        "cells": {
                          "fill": {
                            "color": "#EBF0F8"
                          },
                          "line": {
                            "color": "white"
                          }
                        },
                        "header": {
                          "fill": {
                            "color": "#C8D4E3"
                          },
                          "line": {
                            "color": "white"
                          }
                        },
                        "type": "table"
                      }
                    ]
                  },
                  "layout": {
                    "annotationdefaults": {
                      "arrowcolor": "#2a3f5f",
                      "arrowhead": 0,
                      "arrowwidth": 1
                    },
                    "autotypenumbers": "strict",
                    "coloraxis": {
                      "colorbar": {
                        "outlinewidth": 0,
                        "ticks": ""
                      }
                    },
                    "colorscale": {
                      "diverging": [
                        [
                          0,
                          "#8e0152"
                        ],
                        [
                          0.1,
                          "#c51b7d"
                        ],
                        [
                          0.2,
                          "#de77ae"
                        ],
                        [
                          0.3,
                          "#f1b6da"
                        ],
                        [
                          0.4,
                          "#fde0ef"
                        ],
                        [
                          0.5,
                          "#f7f7f7"
                        ],
                        [
                          0.6,
                          "#e6f5d0"
                        ],
                        [
                          0.7,
                          "#b8e186"
                        ],
                        [
                          0.8,
                          "#7fbc41"
                        ],
                        [
                          0.9,
                          "#4d9221"
                        ],
                        [
                          1,
                          "#276419"
                        ]
                      ],
                      "sequential": [
                        [
                          0,
                          "#0d0887"
                        ],
                        [
                          0.1111111111111111,
                          "#46039f"
                        ],
                        [
                          0.2222222222222222,
                          "#7201a8"
                        ],
                        [
                          0.3333333333333333,
                          "#9c179e"
                        ],
                        [
                          0.4444444444444444,
                          "#bd3786"
                        ],
                        [
                          0.5555555555555556,
                          "#d8576b"
                        ],
                        [
                          0.6666666666666666,
                          "#ed7953"
                        ],
                        [
                          0.7777777777777778,
                          "#fb9f3a"
                        ],
                        [
                          0.8888888888888888,
                          "#fdca26"
                        ],
                        [
                          1,
                          "#f0f921"
                        ]
                      ],
                      "sequentialminus": [
                        [
                          0,
                          "#0d0887"
                        ],
                        [
                          0.1111111111111111,
                          "#46039f"
                        ],
                        [
                          0.2222222222222222,
                          "#7201a8"
                        ],
                        [
                          0.3333333333333333,
                          "#9c179e"
                        ],
                        [
                          0.4444444444444444,
                          "#bd3786"
                        ],
                        [
                          0.5555555555555556,
                          "#d8576b"
                        ],
                        [
                          0.6666666666666666,
                          "#ed7953"
                        ],
                        [
                          0.7777777777777778,
                          "#fb9f3a"
                        ],
                        [
                          0.8888888888888888,
                          "#fdca26"
                        ],
                        [
                          1,
                          "#f0f921"
                        ]
                      ]
                    },
                    "colorway": [
                      "#636efa",
                      "#EF553B",
                      "#00cc96",
                      "#ab63fa",
                      "#FFA15A",
                      "#19d3f3",
                      "#FF6692",
                      "#B6E880",
                      "#FF97FF",
                      "#FECB52"
                    ],
                    "font": {
                      "color": "#2a3f5f"
                    },
                    "geo": {
                      "bgcolor": "white",
                      "lakecolor": "white",
                      "landcolor": "#E5ECF6",
                      "showlakes": true,
                      "showland": true,
                      "subunitcolor": "white"
                    },
                    "hoverlabel": {
                      "align": "left"
                    },
                    "hovermode": "closest",
                    "mapbox": {
                      "style": "light"
                    },
                    "paper_bgcolor": "white",
                    "plot_bgcolor": "#E5ECF6",
                    "polar": {
                      "angularaxis": {
                        "gridcolor": "white",
                        "linecolor": "white",
                        "ticks": ""
                      },
                      "bgcolor": "#E5ECF6",
                      "radialaxis": {
                        "gridcolor": "white",
                        "linecolor": "white",
                        "ticks": ""
                      }
                    },
                    "scene": {
                      "xaxis": {
                        "backgroundcolor": "#E5ECF6",
                        "gridcolor": "white",
                        "gridwidth": 2,
                        "linecolor": "white",
                        "showbackground": true,
                        "ticks": "",
                        "zerolinecolor": "white"
                      },
                      "yaxis": {
                        "backgroundcolor": "#E5ECF6",
                        "gridcolor": "white",
                        "gridwidth": 2,
                        "linecolor": "white",
                        "showbackground": true,
                        "ticks": "",
                        "zerolinecolor": "white"
                      },
                      "zaxis": {
                        "backgroundcolor": "#E5ECF6",
                        "gridcolor": "white",
                        "gridwidth": 2,
                        "linecolor": "white",
                        "showbackground": true,
                        "ticks": "",
                        "zerolinecolor": "white"
                      }
                    },
                    "shapedefaults": {
                      "line": {
                        "color": "#2a3f5f"
                      }
                    },
                    "ternary": {
                      "aaxis": {
                        "gridcolor": "white",
                        "linecolor": "white",
                        "ticks": ""
                      },
                      "baxis": {
                        "gridcolor": "white",
                        "linecolor": "white",
                        "ticks": ""
                      },
                      "bgcolor": "#E5ECF6",
                      "caxis": {
                        "gridcolor": "white",
                        "linecolor": "white",
                        "ticks": ""
                      }
                    },
                    "title": {
                      "x": 0.05
                    },
                    "xaxis": {
                      "automargin": true,
                      "gridcolor": "white",
                      "linecolor": "white",
                      "ticks": "",
                      "title": {
                        "standoff": 15
                      },
                      "zerolinecolor": "white",
                      "zerolinewidth": 2
                    },
                    "yaxis": {
                      "automargin": true,
                      "gridcolor": "white",
                      "linecolor": "white",
                      "ticks": "",
                      "title": {
                        "standoff": 15
                      },
                      "zerolinecolor": "white",
                      "zerolinewidth": 2
                    }
                  }
                },
                "title": {
                  "text": "Total Population"
                }
              }
            },
            "text/html": [
              "<div>                            <div id=\"2b7509d1-2bc6-430e-b81a-e0bcc77a85f8\" class=\"plotly-graph-div\" style=\"height:525px; width:100%;\"></div>            <script type=\"text/javascript\">                require([\"plotly\"], function(Plotly) {                    window.PLOTLYENV=window.PLOTLYENV || {};                                    if (document.getElementById(\"2b7509d1-2bc6-430e-b81a-e0bcc77a85f8\")) {                    Plotly.newPlot(                        \"2b7509d1-2bc6-430e-b81a-e0bcc77a85f8\",                        [{\"colorbar\":{\"title\":{\"text\":\"thousand dollars\"}},\"colorscale\":[[0.0,\"rgb(247,251,255)\"],[0.125,\"rgb(222,235,247)\"],[0.25,\"rgb(198,219,239)\"],[0.375,\"rgb(158,202,225)\"],[0.5,\"rgb(107,174,214)\"],[0.625,\"rgb(66,146,198)\"],[0.75,\"rgb(33,113,181)\"],[0.875,\"rgb(8,81,156)\"],[1.0,\"rgb(8,48,107)\"]],\"locationmode\":\"USA-states\",\"locations\":[\"AL\"],\"text\":[\"AL\"],\"z\":[72399.5671641791],\"type\":\"choropleth\"}],                        {\"geo\":{\"lakecolor\":\"rgb(66,165,245)\",\"projection\":{\"type\":\"albers usa\"},\"scope\":\"usa\",\"showlakes\":true},\"title\":{\"text\":\"Total Population\"},\"template\":{\"data\":{\"histogram2dcontour\":[{\"type\":\"histogram2dcontour\",\"colorbar\":{\"outlinewidth\":0,\"ticks\":\"\"},\"colorscale\":[[0.0,\"#0d0887\"],[0.1111111111111111,\"#46039f\"],[0.2222222222222222,\"#7201a8\"],[0.3333333333333333,\"#9c179e\"],[0.4444444444444444,\"#bd3786\"],[0.5555555555555556,\"#d8576b\"],[0.6666666666666666,\"#ed7953\"],[0.7777777777777778,\"#fb9f3a\"],[0.8888888888888888,\"#fdca26\"],[1.0,\"#f0f921\"]]}],\"choropleth\":[{\"type\":\"choropleth\",\"colorbar\":{\"outlinewidth\":0,\"ticks\":\"\"}}],\"histogram2d\":[{\"type\":\"histogram2d\",\"colorbar\":{\"outlinewidth\":0,\"ticks\":\"\"},\"colorscale\":[[0.0,\"#0d0887\"],[0.1111111111111111,\"#46039f\"],[0.2222222222222222,\"#7201a8\"],[0.3333333333333333,\"#9c179e\"],[0.4444444444444444,\"#bd3786\"],[0.5555555555555556,\"#d8576b\"],[0.6666666666666666,\"#ed7953\"],[0.7777777777777778,\"#fb9f3a\"],[0.8888888888888888,\"#fdca26\"],[1.0,\"#f0f921\"]]}],\"heatmap\":[{\"type\":\"heatmap\",\"colorbar\":{\"outlinewidth\":0,\"ticks\":\"\"},\"colorscale\":[[0.0,\"#0d0887\"],[0.1111111111111111,\"#46039f\"],[0.2222222222222222,\"#7201a8\"],[0.3333333333333333,\"#9c179e\"],[0.4444444444444444,\"#bd3786\"],[0.5555555555555556,\"#d8576b\"],[0.6666666666666666,\"#ed7953\"],[0.7777777777777778,\"#fb9f3a\"],[0.8888888888888888,\"#fdca26\"],[1.0,\"#f0f921\"]]}],\"heatmapgl\":[{\"type\":\"heatmapgl\",\"colorbar\":{\"outlinewidth\":0,\"ticks\":\"\"},\"colorscale\":[[0.0,\"#0d0887\"],[0.1111111111111111,\"#46039f\"],[0.2222222222222222,\"#7201a8\"],[0.3333333333333333,\"#9c179e\"],[0.4444444444444444,\"#bd3786\"],[0.5555555555555556,\"#d8576b\"],[0.6666666666666666,\"#ed7953\"],[0.7777777777777778,\"#fb9f3a\"],[0.8888888888888888,\"#fdca26\"],[1.0,\"#f0f921\"]]}],\"contourcarpet\":[{\"type\":\"contourcarpet\",\"colorbar\":{\"outlinewidth\":0,\"ticks\":\"\"}}],\"contour\":[{\"type\":\"contour\",\"colorbar\":{\"outlinewidth\":0,\"ticks\":\"\"},\"colorscale\":[[0.0,\"#0d0887\"],[0.1111111111111111,\"#46039f\"],[0.2222222222222222,\"#7201a8\"],[0.3333333333333333,\"#9c179e\"],[0.4444444444444444,\"#bd3786\"],[0.5555555555555556,\"#d8576b\"],[0.6666666666666666,\"#ed7953\"],[0.7777777777777778,\"#fb9f3a\"],[0.8888888888888888,\"#fdca26\"],[1.0,\"#f0f921\"]]}],\"surface\":[{\"type\":\"surface\",\"colorbar\":{\"outlinewidth\":0,\"ticks\":\"\"},\"colorscale\":[[0.0,\"#0d0887\"],[0.1111111111111111,\"#46039f\"],[0.2222222222222222,\"#7201a8\"],[0.3333333333333333,\"#9c179e\"],[0.4444444444444444,\"#bd3786\"],[0.5555555555555556,\"#d8576b\"],[0.6666666666666666,\"#ed7953\"],[0.7777777777777778,\"#fb9f3a\"],[0.8888888888888888,\"#fdca26\"],[1.0,\"#f0f921\"]]}],\"mesh3d\":[{\"type\":\"mesh3d\",\"colorbar\":{\"outlinewidth\":0,\"ticks\":\"\"}}],\"scatter\":[{\"fillpattern\":{\"fillmode\":\"overlay\",\"size\":10,\"solidity\":0.2},\"type\":\"scatter\"}],\"parcoords\":[{\"type\":\"parcoords\",\"line\":{\"colorbar\":{\"outlinewidth\":0,\"ticks\":\"\"}}}],\"scatterpolargl\":[{\"type\":\"scatterpolargl\",\"marker\":{\"colorbar\":{\"outlinewidth\":0,\"ticks\":\"\"}}}],\"bar\":[{\"error_x\":{\"color\":\"#2a3f5f\"},\"error_y\":{\"color\":\"#2a3f5f\"},\"marker\":{\"line\":{\"color\":\"#E5ECF6\",\"width\":0.5},\"pattern\":{\"fillmode\":\"overlay\",\"size\":10,\"solidity\":0.2}},\"type\":\"bar\"}],\"scattergeo\":[{\"type\":\"scattergeo\",\"marker\":{\"colorbar\":{\"outlinewidth\":0,\"ticks\":\"\"}}}],\"scatterpolar\":[{\"type\":\"scatterpolar\",\"marker\":{\"colorbar\":{\"outlinewidth\":0,\"ticks\":\"\"}}}],\"histogram\":[{\"marker\":{\"pattern\":{\"fillmode\":\"overlay\",\"size\":10,\"solidity\":0.2}},\"type\":\"histogram\"}],\"scattergl\":[{\"type\":\"scattergl\",\"marker\":{\"colorbar\":{\"outlinewidth\":0,\"ticks\":\"\"}}}],\"scatter3d\":[{\"type\":\"scatter3d\",\"line\":{\"colorbar\":{\"outlinewidth\":0,\"ticks\":\"\"}},\"marker\":{\"colorbar\":{\"outlinewidth\":0,\"ticks\":\"\"}}}],\"scattermapbox\":[{\"type\":\"scattermapbox\",\"marker\":{\"colorbar\":{\"outlinewidth\":0,\"ticks\":\"\"}}}],\"scatterternary\":[{\"type\":\"scatterternary\",\"marker\":{\"colorbar\":{\"outlinewidth\":0,\"ticks\":\"\"}}}],\"scattercarpet\":[{\"type\":\"scattercarpet\",\"marker\":{\"colorbar\":{\"outlinewidth\":0,\"ticks\":\"\"}}}],\"carpet\":[{\"aaxis\":{\"endlinecolor\":\"#2a3f5f\",\"gridcolor\":\"white\",\"linecolor\":\"white\",\"minorgridcolor\":\"white\",\"startlinecolor\":\"#2a3f5f\"},\"baxis\":{\"endlinecolor\":\"#2a3f5f\",\"gridcolor\":\"white\",\"linecolor\":\"white\",\"minorgridcolor\":\"white\",\"startlinecolor\":\"#2a3f5f\"},\"type\":\"carpet\"}],\"table\":[{\"cells\":{\"fill\":{\"color\":\"#EBF0F8\"},\"line\":{\"color\":\"white\"}},\"header\":{\"fill\":{\"color\":\"#C8D4E3\"},\"line\":{\"color\":\"white\"}},\"type\":\"table\"}],\"barpolar\":[{\"marker\":{\"line\":{\"color\":\"#E5ECF6\",\"width\":0.5},\"pattern\":{\"fillmode\":\"overlay\",\"size\":10,\"solidity\":0.2}},\"type\":\"barpolar\"}],\"pie\":[{\"automargin\":true,\"type\":\"pie\"}]},\"layout\":{\"autotypenumbers\":\"strict\",\"colorway\":[\"#636efa\",\"#EF553B\",\"#00cc96\",\"#ab63fa\",\"#FFA15A\",\"#19d3f3\",\"#FF6692\",\"#B6E880\",\"#FF97FF\",\"#FECB52\"],\"font\":{\"color\":\"#2a3f5f\"},\"hovermode\":\"closest\",\"hoverlabel\":{\"align\":\"left\"},\"paper_bgcolor\":\"white\",\"plot_bgcolor\":\"#E5ECF6\",\"polar\":{\"bgcolor\":\"#E5ECF6\",\"angularaxis\":{\"gridcolor\":\"white\",\"linecolor\":\"white\",\"ticks\":\"\"},\"radialaxis\":{\"gridcolor\":\"white\",\"linecolor\":\"white\",\"ticks\":\"\"}},\"ternary\":{\"bgcolor\":\"#E5ECF6\",\"aaxis\":{\"gridcolor\":\"white\",\"linecolor\":\"white\",\"ticks\":\"\"},\"baxis\":{\"gridcolor\":\"white\",\"linecolor\":\"white\",\"ticks\":\"\"},\"caxis\":{\"gridcolor\":\"white\",\"linecolor\":\"white\",\"ticks\":\"\"}},\"coloraxis\":{\"colorbar\":{\"outlinewidth\":0,\"ticks\":\"\"}},\"colorscale\":{\"sequential\":[[0.0,\"#0d0887\"],[0.1111111111111111,\"#46039f\"],[0.2222222222222222,\"#7201a8\"],[0.3333333333333333,\"#9c179e\"],[0.4444444444444444,\"#bd3786\"],[0.5555555555555556,\"#d8576b\"],[0.6666666666666666,\"#ed7953\"],[0.7777777777777778,\"#fb9f3a\"],[0.8888888888888888,\"#fdca26\"],[1.0,\"#f0f921\"]],\"sequentialminus\":[[0.0,\"#0d0887\"],[0.1111111111111111,\"#46039f\"],[0.2222222222222222,\"#7201a8\"],[0.3333333333333333,\"#9c179e\"],[0.4444444444444444,\"#bd3786\"],[0.5555555555555556,\"#d8576b\"],[0.6666666666666666,\"#ed7953\"],[0.7777777777777778,\"#fb9f3a\"],[0.8888888888888888,\"#fdca26\"],[1.0,\"#f0f921\"]],\"diverging\":[[0,\"#8e0152\"],[0.1,\"#c51b7d\"],[0.2,\"#de77ae\"],[0.3,\"#f1b6da\"],[0.4,\"#fde0ef\"],[0.5,\"#f7f7f7\"],[0.6,\"#e6f5d0\"],[0.7,\"#b8e186\"],[0.8,\"#7fbc41\"],[0.9,\"#4d9221\"],[1,\"#276419\"]]},\"xaxis\":{\"gridcolor\":\"white\",\"linecolor\":\"white\",\"ticks\":\"\",\"title\":{\"standoff\":15},\"zerolinecolor\":\"white\",\"automargin\":true,\"zerolinewidth\":2},\"yaxis\":{\"gridcolor\":\"white\",\"linecolor\":\"white\",\"ticks\":\"\",\"title\":{\"standoff\":15},\"zerolinecolor\":\"white\",\"automargin\":true,\"zerolinewidth\":2},\"scene\":{\"xaxis\":{\"backgroundcolor\":\"#E5ECF6\",\"gridcolor\":\"white\",\"linecolor\":\"white\",\"showbackground\":true,\"ticks\":\"\",\"zerolinecolor\":\"white\",\"gridwidth\":2},\"yaxis\":{\"backgroundcolor\":\"#E5ECF6\",\"gridcolor\":\"white\",\"linecolor\":\"white\",\"showbackground\":true,\"ticks\":\"\",\"zerolinecolor\":\"white\",\"gridwidth\":2},\"zaxis\":{\"backgroundcolor\":\"#E5ECF6\",\"gridcolor\":\"white\",\"linecolor\":\"white\",\"showbackground\":true,\"ticks\":\"\",\"zerolinecolor\":\"white\",\"gridwidth\":2}},\"shapedefaults\":{\"line\":{\"color\":\"#2a3f5f\"}},\"annotationdefaults\":{\"arrowcolor\":\"#2a3f5f\",\"arrowhead\":0,\"arrowwidth\":1},\"geo\":{\"bgcolor\":\"white\",\"landcolor\":\"#E5ECF6\",\"subunitcolor\":\"white\",\"showland\":true,\"showlakes\":true,\"lakecolor\":\"white\"},\"title\":{\"x\":0.05},\"mapbox\":{\"style\":\"light\"}}}},                        {\"responsive\": true}                    ).then(function(){\n",
              "                            \n",
              "var gd = document.getElementById('2b7509d1-2bc6-430e-b81a-e0bcc77a85f8');\n",
              "var x = new MutationObserver(function (mutations, observer) {{\n",
              "        var display = window.getComputedStyle(gd).display;\n",
              "        if (!display || display === 'none') {{\n",
              "            console.log([gd, 'removed!']);\n",
              "            Plotly.purge(gd);\n",
              "            observer.disconnect();\n",
              "        }}\n",
              "}});\n",
              "\n",
              "// Listen for the removal of the full notebook cells\n",
              "var notebookContainer = gd.closest('#notebook-container');\n",
              "if (notebookContainer) {{\n",
              "    x.observe(notebookContainer, {childList: true});\n",
              "}}\n",
              "\n",
              "// Listen for the clearing of the current output cell\n",
              "var outputEl = gd.closest('.output');\n",
              "if (outputEl) {{\n",
              "    x.observe(outputEl, {childList: true});\n",
              "}}\n",
              "\n",
              "                        })                };                });            </script>        </div>"
            ]
          },
          "metadata": {},
          "output_type": "display_data"
        }
      ],
      "source": [
        "fig = go.Figure(data=data, layout=layout)\n",
        "fig.show()\n",
        "#iplot(fig)"
      ]
    },
    {
      "cell_type": "code",
      "execution_count": null,
      "metadata": {},
      "outputs": [],
      "source": [
        "counties.info()\n",
        "counties[\"State\"]=='Virginia'"
      ]
    },
    {
      "cell_type": "code",
      "execution_count": null,
      "metadata": {
        "colab": {
          "base_uri": "https://localhost:8080/",
          "height": 51
        },
        "colab_type": "code",
        "id": "FEqQcgOojpb5",
        "outputId": "452ffa51-90e2-48d3-88dd-26717a4d74b8"
      },
      "outputs": [],
      "source": [
        "# restrict to Virginia\n",
        "va = counties.loc[counties['State']=='Virginia']\n",
        "print(counties.shape)\n",
        "print(va.shape)"
      ]
    },
    {
      "cell_type": "code",
      "execution_count": null,
      "metadata": {
        "colab": {
          "base_uri": "https://localhost:8080/",
          "height": 731
        },
        "colab_type": "code",
        "id": "oMWyqlXqjpb7",
        "outputId": "9fa001a0-22d2-4351-8f90-972c7df52331"
      },
      "outputs": [],
      "source": [
        "# show a list of variables\n",
        "va.info()"
      ]
    },
    {
      "cell_type": "markdown",
      "metadata": {
        "colab_type": "text",
        "id": "cnZ2DAmsjpb-"
      },
      "source": [
        "#### Data Dictionary\n",
        "| Varname | Data | \n",
        "|:---:|:---|\n",
        "| CensusTract | Census tract ID |\n",
        "| State | State, DC, or Puerto Rico |\n",
        "|County | County or county equivalent | \n",
        "| Total | PopTotal population | \n",
        "| Men | Number of men |\n",
        "|Women|Number of women |\n",
        "|Hispanic|% of population that is Hispanic/Latino|\n",
        "|White|% of population that is white|\n",
        "|Black|% of population that is black|\n",
        "|Native|% of population that is Native American or Native Alaskan|\n",
        "|Asian|% of population that is Asian|\n",
        "|Pacific|% of population that is Native Hawaiian or Pacific Islander|\n",
        "|Citizen|Number of citizens|\n",
        "|Income|Median household income |\n",
        "|IncomeErr|Median household income error|\n",
        "|IncomePerCap|Income per capita |\n",
        "|IncomePerCapErr|Income per capita error |\n",
        "|Poverty|% under poverty level|\n",
        "|ChildPoverty|% of children under poverty level|\n",
        "|Professional|% employed in management, business, science, and arts|\n",
        "|Service|% employed in service jobs|\n",
        "|Office|% employed in sales and office jobs|\n",
        "|Construction|% employed in natural resources, construction, and maintenance|\n",
        "|Production|% employed in production, transportation, and material movement|\n",
        "|Drive|% commuting alone in a car, van, or truck|\n",
        "|Carpool|% carpooling in a car, van, or truck|\n",
        "|Transit|% commuting on public transportation|\n",
        "|Walk|% walking to work|\n",
        "|OtherTransp|% commuting via other means|\n",
        "|WorkAtHome|% working at home|\n",
        "|MeanCommute|Mean commute time (minutes)|\n",
        "|Employed|Number of employed (16+)|\n",
        "|PrivateWork|% employed in private industry|\n",
        "|PublicWork|% employed in public jobs|\n",
        "|SelfEmployed|% self-employed|\n",
        "|FamilyWork|% in unpaid family work|\n",
        "|Unemployment|Unemployment rate (%)|"
      ]
    },
    {
      "cell_type": "code",
      "execution_count": null,
      "metadata": {
        "colab": {
          "base_uri": "https://localhost:8080/",
          "height": 153
        },
        "colab_type": "code",
        "id": "vdGOBqK8jpb-",
        "outputId": "31645db9-664c-4efe-9673-ccab51d76f75"
      },
      "outputs": [],
      "source": [
        "va.columns"
      ]
    },
    {
      "cell_type": "markdown",
      "metadata": {
        "colab_type": "text",
        "id": "aZO3L1SvjpcA"
      },
      "source": [
        "### Rural or Urban?\n",
        "https://www.ers.usda.gov/data-products/rural-urban-continuum-codes/"
      ]
    },
    {
      "cell_type": "code",
      "execution_count": null,
      "metadata": {
        "colab": {
          "base_uri": "https://localhost:8080/",
          "height": 142
        },
        "colab_type": "code",
        "id": "i_To1i4QjpcB",
        "outputId": "91b087b6-d92c-43a6-ece4-adf38f4ed00c"
      },
      "outputs": [],
      "source": [
        "# get the USDA county rural-urban codes\n",
        "usda=pd.read_excel('https://github.com/austinlasseter/dash-virginia-counties/raw/master/resources/ruralurbancodes2013.xls')\n",
        "usda.sample(3)"
      ]
    },
    {
      "cell_type": "code",
      "execution_count": null,
      "metadata": {
        "colab": {
          "base_uri": "https://localhost:8080/",
          "height": 359
        },
        "colab_type": "code",
        "id": "JEg9foJjjpcD",
        "outputId": "c32ac033-9774-43a9-f307-5eef680cb097"
      },
      "outputs": [],
      "source": [
        "# what are the codes?\n",
        "usda.groupby('RUCC_2013')[['RUCC_2013','Description']].max()"
      ]
    },
    {
      "cell_type": "code",
      "execution_count": null,
      "metadata": {
        "colab": {
          "base_uri": "https://localhost:8080/",
          "height": 51
        },
        "colab_type": "code",
        "id": "q9rb-xiljpcF",
        "outputId": "41fb9d9f-9d8f-4c6c-90c9-c41d9d026e54"
      },
      "outputs": [],
      "source": [
        "# merge with VA data\n",
        "va2=pd.merge(va, usda, left_on='CountyId', right_on='FIPS', how='left')\n",
        "print(va.shape)\n",
        "print(va2.shape)"
      ]
    },
    {
      "cell_type": "code",
      "execution_count": null,
      "metadata": {
        "colab": {
          "base_uri": "https://localhost:8080/",
          "height": 187
        },
        "colab_type": "code",
        "id": "aTro3BHjjpcH",
        "outputId": "7b9af5eb-5a39-4273-9f8d-23db73e3dd05"
      },
      "outputs": [],
      "source": [
        "# what are the counts?\n",
        "va2['RUCC_2013'].value_counts()"
      ]
    },
    {
      "cell_type": "code",
      "execution_count": null,
      "metadata": {
        "colab": {
          "base_uri": "https://localhost:8080/",
          "height": 102
        },
        "colab_type": "code",
        "id": "keecDjL_jpcI",
        "outputId": "c3848e25-6c32-4289-add8-fb668701dfe4"
      },
      "outputs": [],
      "source": [
        "# simplify the rural-urban indicator\n",
        "va2['metro']=va2['RUCC_2013'].map({1:'urban', \n",
        "                                   2:'suburban',\n",
        "                                   3:'suburban',\n",
        "                                   4:'town',\n",
        "                                   5:'town',\n",
        "                                   6:'town',\n",
        "                                   7:'rural',\n",
        "                                   8:'rural',\n",
        "                                   9:'rural'})\n",
        "# sort as categories\n",
        "va2['metro'] = pd.Categorical(va2['metro'], ['urban', 'suburban', 'town', 'rural'])\n",
        "va2['metro'].value_counts()"
      ]
    },
    {
      "cell_type": "code",
      "execution_count": null,
      "metadata": {
        "colab": {
          "base_uri": "https://localhost:8080/",
          "height": 204
        },
        "colab_type": "code",
        "id": "V0dc_-tmjpcK",
        "outputId": "40bc68ac-8811-4c86-d157-74310cf2c730"
      },
      "outputs": [],
      "source": [
        "# are there differences in commuting and transit patterns?\n",
        "va2.groupby('metro')[['MeanCommute', 'Drive','Carpool','Transit']].mean().sort_index()"
      ]
    },
    {
      "cell_type": "code",
      "execution_count": null,
      "metadata": {
        "colab": {
          "base_uri": "https://localhost:8080/",
          "height": 204
        },
        "colab_type": "code",
        "id": "_tE_gcd8jpcM",
        "outputId": "0bc445ec-b157-4d6e-c9c3-f4c6172a62ec"
      },
      "outputs": [],
      "source": [
        "# are there differences in income and poverty?\n",
        "va2.groupby('metro')[['Income', 'IncomePerCap','Unemployment', 'Poverty']].mean().sort_index()"
      ]
    },
    {
      "cell_type": "code",
      "execution_count": null,
      "metadata": {
        "colab": {
          "base_uri": "https://localhost:8080/",
          "height": 204
        },
        "colab_type": "code",
        "id": "R-MlthTgjpcO",
        "outputId": "2ffe3dbb-9a3a-4e8c-f7a7-aa80f306bc50"
      },
      "outputs": [],
      "source": [
        "# are there differences in race-ethnicity?\n",
        "va2.groupby('metro')[['White','Black','Hispanic','Asian','Native']].mean().sort_index()"
      ]
    },
    {
      "cell_type": "code",
      "execution_count": null,
      "metadata": {
        "colab": {
          "base_uri": "https://localhost:8080/",
          "height": 204
        },
        "colab_type": "code",
        "id": "ikJ6nBZhjpcQ",
        "outputId": "f3374c18-d726-4258-fdf0-da7ce0413ffd"
      },
      "outputs": [],
      "source": [
        "# are there differences in industry?\n",
        "va2.groupby('metro')[['Professional','Service','Office','Construction','Production']].mean().sort_index()"
      ]
    },
    {
      "cell_type": "code",
      "execution_count": null,
      "metadata": {
        "colab": {
          "base_uri": "https://localhost:8080/",
          "height": 204
        },
        "colab_type": "code",
        "id": "xBo9K8shjpcS",
        "outputId": "cf708b11-7e64-4a66-c247-b93caa451f4a"
      },
      "outputs": [],
      "source": [
        "# Differences in sector?\n",
        "va2.groupby('metro')[['PrivateWork','PublicWork']].mean().sort_index()"
      ]
    },
    {
      "cell_type": "code",
      "execution_count": null,
      "metadata": {
        "colab": {},
        "colab_type": "code",
        "id": "4IOyzSvljpcU"
      },
      "outputs": [],
      "source": [
        "# display all counties\n",
        "# !pip install plotly-geo\n",
        "# import plotly.figure_factory as ff\n",
        "\n",
        "# values = va2['Income']\n",
        "\n",
        "# fig = ff.create_choropleth(fips=va2['FIPS'], \n",
        "#                            values=values, \n",
        "#                            scope=['VA'], \n",
        "#                            county_outline={'color': 'rgb(255,255,255)', 'width': 0.5})\n",
        "# iplot(fig)"
      ]
    },
    {
      "cell_type": "code",
      "execution_count": null,
      "metadata": {
        "colab": {},
        "colab_type": "code",
        "id": "34QMqsDXjpcW"
      },
      "outputs": [],
      "source": [
        "# export\n",
        "# va2.to_pickle('va-stats.pkl')"
      ]
    },
    {
      "cell_type": "code",
      "execution_count": null,
      "metadata": {
        "colab": {},
        "colab_type": "code",
        "id": "3YO6nBqpjpcY"
      },
      "outputs": [],
      "source": [
        "va2['FIPS'].dtype\n",
        "va2['fips']=va2['FIPS'].astype(str)"
      ]
    },
    {
      "cell_type": "code",
      "execution_count": null,
      "metadata": {
        "colab": {
          "base_uri": "https://localhost:8080/",
          "height": 542
        },
        "colab_type": "code",
        "id": "HHabBZIUjpcc",
        "outputId": "2d5b3fff-c70f-443a-f062-ff137332794b"
      },
      "outputs": [],
      "source": [
        "from urllib.request import urlopen\n",
        "import json\n",
        "with urlopen('https://raw.githubusercontent.com/plotly/datasets/master/geojson-counties-fips.json') as response:\n",
        "    counties = json.load(response)\n",
        "\n",
        "fig = go.Figure(go.Choroplethmapbox(geojson=counties, \n",
        "                                    locations=va2['fips'], \n",
        "                                    z=va2['Income'],\n",
        "                                    colorscale='Electric', \n",
        "                                    text=va2['County'],\n",
        "                                    zmin=0, \n",
        "                                    zmax=100000,\n",
        "                                    marker_line_width=0))\n",
        "fig.update_layout(mapbox_style=\"carto-positron\",\n",
        "                  mapbox_zoom=5.8, mapbox_center = {\"lat\": 38.0293, \"lon\": -79.4428})\n",
        "fig.update_layout(margin={\"r\":0,\"t\":0,\"l\":0,\"b\":0})\n",
        "# fig.show()\n",
        "iplot(fig)\n",
        "# https://community.plot.ly/t/what-colorscales-are-available-in-plotly-and-which-are-the-default/2079"
      ]
    }
  ],
  "metadata": {
    "colab": {
      "name": "virginia-eda.ipynb",
      "provenance": []
    },
    "kernelspec": {
      "display_name": "Python 3.9.12 64-bit",
      "language": "python",
      "name": "python3"
    },
    "language_info": {
      "codemirror_mode": {
        "name": "ipython",
        "version": 3
      },
      "file_extension": ".py",
      "mimetype": "text/x-python",
      "name": "python",
      "nbconvert_exporter": "python",
      "pygments_lexer": "ipython3",
      "version": "3.9.12"
    },
    "vscode": {
      "interpreter": {
        "hash": "aee8b7b246df8f9039afb4144a1f6fd8d2ca17a180786b69acc140d282b71a49"
      }
    }
  },
  "nbformat": 4,
  "nbformat_minor": 0
}
